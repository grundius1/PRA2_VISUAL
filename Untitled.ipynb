{
 "cells": [
  {
   "cell_type": "code",
   "execution_count": 1,
   "id": "9f8591a9",
   "metadata": {},
   "outputs": [],
   "source": [
    "import pandas as pd\n",
    "import os\n",
    "pd.set_option('display.max_rows', None)"
   ]
  },
  {
   "cell_type": "code",
   "execution_count": 2,
   "id": "0d29f6b1",
   "metadata": {},
   "outputs": [
    {
     "name": "stdout",
     "output_type": "stream",
     "text": [
      "['./data/2005.csv', './data/2006.csv', './data/2007.csv', './data/2008.csv', './data/2009.csv', './data/2010.csv', './data/2011.csv', './data/2012.csv', './data/2013.csv', './data/2014.csv', './data/2015.csv', './data/2016.csv', './data/2017.csv', './data/2018.csv', './data/2019.csv', './data/2020.csv', './data/2021.csv', './data/2022.csv', './data/2023.csv']\n"
     ]
    }
   ],
   "source": [
    "# getting all the files\n",
    "folder_path = r'./data/'\n",
    "\n",
    "all_files = os.listdir(folder_path)\n",
    "csv_files = [f\"./data/{f}\" for f in all_files if f.endswith('.csv')]\n",
    "print(csv_files)\n",
    "#csv_files = [\"2007.csv\"]"
   ]
  },
  {
   "cell_type": "code",
   "execution_count": 3,
   "id": "969d2622",
   "metadata": {},
   "outputs": [],
   "source": [
    "#set control varibles\n",
    "files = 0\n",
    "first = True"
   ]
  },
  {
   "cell_type": "code",
   "execution_count": 4,
   "id": "60dc9439",
   "metadata": {},
   "outputs": [],
   "source": [
    "# set end file and folder\n",
    "end_file = r\"./finales/combined_file_test.csv\""
   ]
  },
  {
   "cell_type": "code",
   "execution_count": 5,
   "id": "063ac421",
   "metadata": {},
   "outputs": [],
   "source": [
    "data_dict =  {\n",
    "    1:\"Dióxido de azufre\",\n",
    "    6:\"Monóxido de carbono\",\n",
    "    7:\"Monóxido de nitrógeno\",\n",
    "    8:\"Dióxido de nitrógeno\",\n",
    "    9:\"Partículas en suspensión < PM2,5\",\n",
    "    10:\"Partículas en suspensión < PM10\",\n",
    "    12:\"Óxidos de nitrógeno\",\n",
    "    14:\"Ozono\",\n",
    "    20:\"Tolueno\",\n",
    "    22:\"Black Carbon\",\n",
    "    30:\"Benceno\",\n",
    "    42:\"Hidrocarburos totales\",\n",
    "    44:\"Hidrocarburos no metánicos\",\n",
    "    431:\"MetaParaXileno\"\n",
    "}\n",
    "places_dict={\n",
    "    5:\"ALCALÁ DE HENARES\",\n",
    "6:\"ALCOBENDAS\",\n",
    "7:\"ALCORCÓN\",\n",
    "9:\"ALGETE\",\n",
    "13:\"ARANJUEZ\",\n",
    "14:\"ARGANDA DEL REY\",\n",
    "16:\"EL ATAZAR\",\n",
    "45:\"COLMENAR VIEJO\",\n",
    "47:\"COLLADO VILLALBA\",\n",
    "49:\"COSLADA\",\n",
    "58:\"FUENLABRADA\",\n",
    "65:\"GETAFE\",\n",
    "67:\"GUADALIX DE LA SIERRA\",\n",
    "74:\"LEGANÉS\",\n",
    "80:\"MAJADAHONDA\",\n",
    "92:\"MÓSTOLES\",\n",
    "102:\"ORUSCO DE TAJUÑA\",\n",
    "120:\"PUERTO DE COTOS\",\n",
    "123:\"RIVAS-VACIAMADRID\",\n",
    "133:\"SAN MARTÍN DE VALDEIGLESIAS\",\n",
    "148:\"TORREJÓN DE ARDOZ\",\n",
    "161:\"VALDEMORO\",\n",
    "171:\"VILLA DEL PRADO\",\n",
    "180:\"VILLAREJO DE SALVANÉS\"\n",
    "}"
   ]
  },
  {
   "cell_type": "code",
   "execution_count": 6,
   "id": "08c322a0",
   "metadata": {},
   "outputs": [],
   "source": [
    "def get_measure_technique(punto_muestreo):\n",
    "    elements = punto_muestreo.split(\"_\")\n",
    "    return int(elements[-1])"
   ]
  },
  {
   "cell_type": "code",
   "execution_count": 7,
   "id": "7666c632",
   "metadata": {},
   "outputs": [
    {
     "name": "stdout",
     "output_type": "stream",
     "text": [
      "1\n",
      "2\n",
      "3\n",
      "4\n",
      "5\n",
      "6\n",
      "7\n",
      "8\n",
      "9\n",
      "10\n",
      "11\n",
      "12\n",
      "13\n",
      "14\n",
      "15\n",
      "16\n",
      "17\n",
      "18\n",
      "19\n",
      "finished\n"
     ]
    }
   ],
   "source": [
    "for csv in csv_files:\n",
    "    files += 1\n",
    "    print(files)\n",
    "    #file_path = os.path.join(folder_path, csv)\n",
    "    try:\n",
    "        # Try reading the file using default UTF-8 encoding\n",
    "        df = pd.read_csv(csv, sep= \";\")\n",
    "        # chage all the hour columns to rows \n",
    "        df = df.melt(id_vars= [\"provincia\" ,\"municipio\" ,\"estacion\",\"magnitud\",\"punto_muestreo\",\"ano\",\"mes\",\"dia\",\"v01\",\"v02\",\"v03\",\"v04\",\"v05\",\"v06\",\"v07\",\"v08\",\"v09\",\"v10\",\"v11\",\"v12\",\"v13\",\"v14\",\"v15\",\"v16\",\"v17\",\"v18\",\"v19\",\"v20\",\"v21\",\"v22\",\"v23\",\"v24\"])\n",
    "        df.rename(columns={\"variable\":\"hour\",\"value\":\"valor\"},inplace=True)\n",
    "        df = df.melt(id_vars= [\"provincia\" ,\"municipio\" ,\"estacion\",\"magnitud\",\"punto_muestreo\",\"ano\",\"mes\",\"dia\",\"hour\",\"valor\"])\n",
    "        #erase the variable column and duplicated rows from melt\n",
    "        df.drop([\"variable\"], inplace = True,axis=1)\n",
    "        df.drop_duplicates(inplace=True)\n",
    "        #df.drop([\"provincia\"], inplace = True, axis=1)\n",
    "        # drop NA values from measures without number\n",
    "        df.dropna(subset=['valor'], inplace = True)\n",
    "        # change the measures to numeric value tipe\n",
    "        df['valor'] = pd.to_numeric(df['valor'].str.replace(',', '.'), errors='coerce')\n",
    "        #replace the magnitud and the municipality codes by names\n",
    "        df.replace({\"magnitud\": data_dict} , inplace=True)\n",
    "        df.replace({\"municipio\": places_dict} , inplace=True)\n",
    "        # keep only valid measures, some are wrong\n",
    "        df = df[df['valor'] >= 0]\n",
    "        # create datetime column with yyear and month\n",
    "        df['date_monthly'] = pd.to_datetime(df['ano'].astype(str)+ \"-\" + df['mes'].astype(str), format='%Y-%m').dt.strftime('%Y-%m')\n",
    "        #df[\"date_monthly\"] = df['ano'].astype(str) + \"-\" + df['mes'].astype(str)\n",
    "        # delete columns que are no t gonna use to eligerate the data\n",
    "        df.drop([\"provincia\",'ano', 'mes', \"dia\",\"hour\",\"value\"], axis=1, inplace = True)\n",
    "        df.drop([\"punto_muestreo\"], axis=1, inplace = True)\n",
    "        # agrupate the df by year and month and the mean of every measure we have\n",
    "        df = df.groupby(['date_monthly', 'municipio', 'estacion', 'magnitud']).agg({\n",
    "    'valor': 'mean'}).reset_index()\n",
    "        df = df.pivot(index=['date_monthly', 'municipio', 'estacion'], columns='magnitud', values='valor').reset_index()\n",
    "        #display(df.head())\n",
    "        #print(df.valor.value_counts())\n",
    "        #df_list.append(df)\n",
    "        #file = os.path.join(folder_path, end_file)\n",
    "        if first == True:\n",
    "            df.to_csv(end_file,index=False, sep=\",\",lineterminator='\\n')\n",
    "            first = False\n",
    "        else:\n",
    "            df.to_csv(end_file,index=False, sep=\",\",lineterminator='\\n',header=False, mode = 'a')\n",
    "    except UnicodeDecodeError:\n",
    "        try:\n",
    "            print(\"error\")\n",
    "            # If UTF-8 fails, try reading the file using UTF-16 encoding with tab separator\n",
    "            df = pd.read_csv(file_path, sep=';', encoding='utf-16')\n",
    "\n",
    "        except Exception as e:\n",
    "            print(f\"Could not read file {csv} because of error: {e}\")\n",
    "    \n",
    "    \n",
    "print(\"finished\")"
   ]
  },
  {
   "cell_type": "code",
   "execution_count": null,
   "id": "45a300e2",
   "metadata": {},
   "outputs": [],
   "source": []
  }
 ],
 "metadata": {
  "kernelspec": {
   "display_name": "Python 3 (ipykernel)",
   "language": "python",
   "name": "python3"
  },
  "language_info": {
   "codemirror_mode": {
    "name": "ipython",
    "version": 3
   },
   "file_extension": ".py",
   "mimetype": "text/x-python",
   "name": "python",
   "nbconvert_exporter": "python",
   "pygments_lexer": "ipython3",
   "version": "3.11.5"
  }
 },
 "nbformat": 4,
 "nbformat_minor": 5
}
